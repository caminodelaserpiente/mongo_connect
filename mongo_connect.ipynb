{
  "nbformat": 4,
  "nbformat_minor": 0,
  "metadata": {
    "colab": {
      "provenance": []
    },
    "kernelspec": {
      "name": "python3",
      "display_name": "Python 3"
    },
    "language_info": {
      "name": "python"
    }
  },
  "cells": [
    {
      "cell_type": "code",
      "source": [
        "%%capture\n",
        "!pip install pymongo"
      ],
      "metadata": {
        "id": "zD-QKumB9okq"
      },
      "execution_count": null,
      "outputs": []
    },
    {
      "cell_type": "code",
      "execution_count": null,
      "metadata": {
        "id": "X1CFm-9ryJcz"
      },
      "outputs": [],
      "source": [
        "import pymongo\n",
        "import getpass\n",
        "import pandas as pd\n",
        "import csv\n",
        "import configparser\n",
        "import os\n",
        "\n",
        "\n",
        "def __connect_mongo_client(path_config='./config/credentials.ini'):\n",
        "    try:\n",
        "        # Set clúster MongoDB\n",
        "        url_template = \"mongodb+srv://<username>:<password>@<cluster>.<instance_url>.mongodb.net/test?retryWrites=true&w=majority\"\n",
        "        config = configparser.ConfigParser()\n",
        "        config.read(path_config)\n",
        "        username = config.get('Credentials', 'username')\n",
        "        password = config.get('Credentials', 'password')\n",
        "        cluster = config.get('Credentials', 'cluster')\n",
        "        instance_url = config.get('Credentials', 'instance_url')\n",
        "        #username = getpass.getpass(prompt=\"Enter username: \")\n",
        "        #password = getpass.getpass(prompt=\"Enter password: \")\n",
        "        #cluster = input(\"Enter cluster name: \")\n",
        "        #instance_url = getpass.getpass(prompt=\"Enter instance url: \")\n",
        "        try:\n",
        "            if not username:\n",
        "                raise ValueError(\"Username cannot be empty.\")\n",
        "            url = url_template.replace(\"<username>\", username).replace(\"<password>\", password).replace(\"<cluster>\", cluster).replace(\"<instance_url>\", instance_url)\n",
        "            mongo_client = pymongo.MongoClient(url, serverSelectionTimeoutMS=3000, maxPoolSize=10)\n",
        "            mongo_client.server_info()\n",
        "            print ('OK -- Connected to MongoDB at server ')\n",
        "            return mongo_client\n",
        "        except pymongo.errors.ServerSelectionTimeoutError as error:\n",
        "            print ('ERROR -- Timeout with mongoDB connection: ', str(error) + \"\\n\")\n",
        "        except pymongo.errors.ConnectionFailure as error:\n",
        "            print ('ERROR -- Could not connect to MongoDB: ', str(error) + \"\\n\")\n",
        "        except ValueError as error:\n",
        "            print('ERROR -- Configuration file error: ', str(error) + \"\\n\")\n",
        "    except pymongo.errors.ConfigurationError as error:\n",
        "        print('ERROR -- Failed to resolve MongoDB DNS:', str(error) + \"\\n\")\n",
        "\n",
        "\n",
        "def __connect_mongodb(mongo_client):\n",
        "    # Set DB\n",
        "    db_list = mongo_client.list_database_names() # Names databases\n",
        "    print(db_list)\n",
        "    try:\n",
        "        name_db = str(input(\"Name database >>> \"))\n",
        "        db = mongo_client[name_db]\n",
        "        if name_db in db_list:\n",
        "            print(f\"Connection to database '{name_db}' successful!\")\n",
        "            return db\n",
        "        else:\n",
        "            print(\"The database '{}' does not exist.\".format(name_db))\n",
        "            response = str(input(\"Do you want to create it? (y/n) >>> \"))\n",
        "            if response.lower() == \"y\":\n",
        "                mongo_client[name_db].command(\"ping\")\n",
        "                db = mongo_client[name_db]\n",
        "                print(\"Database '{}' created and conected successfu!\".format(name_db))\n",
        "                return db\n",
        "            elif response.lower() == \"n\":\n",
        "                print(\"Database not created.\")\n",
        "                return None\n",
        "            else:\n",
        "                print(\"Database not created.\")\n",
        "                return None\n",
        "    except Exception as error:\n",
        "        return None\n",
        "        print(\"An error occurred by def __connect_mongodb() :\", error)\n",
        "\n",
        "\n",
        "def __connect_mongodb_collection(db):\n",
        "    try:\n",
        "        # Set collection\n",
        "        collection_list = db.list_collection_names() # Names collections\n",
        "        print(collection_list)\n",
        "        name_collection = str(input(\"Name collection >>> \"))\n",
        "        collection = db[name_collection]\n",
        "        if name_collection in collection_list:\n",
        "            print(f\"Connection to '{name_collection}' in database '{db}' successful!\")\n",
        "            return collection\n",
        "        else:\n",
        "            print(f\"Collection '{name_collection}' does not exist in database '{db.name}'.\")\n",
        "            response = input(\"Do you want to create it? (y/n) >>> \")\n",
        "            if response.lower() == \"y\":\n",
        "                collection = db[name_collection]\n",
        "                print(\"Collection '{}' created and conected successfu!\".format(name_collection))\n",
        "                return collection\n",
        "            elif response.lower() == \"n\":\n",
        "                print(\"Collection not created.\")\n",
        "                return None\n",
        "            else:\n",
        "                print(\"Collection not created.\")\n",
        "                return None\n",
        "    except Exception as error:\n",
        "        return None\n",
        "        print(\"An error occurred by def __connect_mongodb_collection() :\", error)\n",
        "\n",
        "\n",
        "__csv_path = None # Global variable\n",
        "def __read_csv_data():\n",
        "    max_attempts = 3\n",
        "    num_attempts = 0\n",
        "    try:\n",
        "        global __csv_path # Use the global variable __csv_path inside the function\n",
        "        while True:\n",
        "            if num_attempts == max_attempts:\n",
        "                print(\"\\nMaximum number of attempts reached. Exiting function.\")\n",
        "                break\n",
        "            else:\n",
        "                print(f\"The specified PATH is: '{__csv_path}'\")\n",
        "                response = str(input(\"Are you sure to continue on this PATH? (y/n)\"))\n",
        "                if response.lower() == \"y\":\n",
        "                    break\n",
        "                elif response.lower() == \"n\":\n",
        "                    if __csv_path is None:\n",
        "                        __csv_path = str(input(\"Enter the PATH of the .csv file >>> \"))\n",
        "                        if not os.path.isfile(__csv_path):\n",
        "                            print(\"The specified PATH does not exist.\")\n",
        "                    else:\n",
        "                        num_attempts += 1\n",
        "                        __csv_path = str(input(\"Enter the correct PATH of the .csv file? >>> \"))\n",
        "                        if os.path.isfile(__csv_path):\n",
        "                            __csv_path = __csv_path\n",
        "                            break\n",
        "                        else:\n",
        "                            print(\"The specified PATH does not exist.\")\n",
        "                else:\n",
        "                    num_attempts += 1\n",
        "    except Exception as error:\n",
        "        print(\"An error occurred in __read_csv_data() :\", error)\n",
        "\n",
        "                \n",
        "def __insert_data_csv_to_mongo(db, collection):\n",
        "    try:\n",
        "        global __csv_path # Use the global variable csv_path inside the function\n",
        "        df = pd.read_csv(__csv_path)\n",
        "        data = df.to_dict('records') # Convert DataFrame to dictionary list\n",
        "        collection.insert_many(data) # Insert data into the collection\n",
        "        print(f\"Data from '{__csv_path}' has been inserted into '{collection}' collection.\")\n",
        "    except pymongo.errors.ConnectionFailure as error:\n",
        "        print(\"An error occurred by def insert_csv_to_mongo() :\", error)\n",
        "    except pymongo.errors.CollectionInvalid as error:\n",
        "        print(\"An error occurred by def insert_csv_to_mongo() :\", error)\n",
        "    except FileNotFoundError as error:\n",
        "        print(\"An error occurred by def insert_csv_to_mongo() :\", error)\n",
        "    except Exception as error:\n",
        "        print(\"An error occurred by def insert_csv_to_mongo() :\", error)\n",
        "\n",
        "\n",
        "def __get_data_collection(collection):\n",
        "    try:\n",
        "        return list(collection.find())\n",
        "    except Exception as error:\n",
        "        print(\"An error occurred by def __get_data_collection() :\", error)\n"
      ]
    },
    {
      "cell_type": "code",
      "source": [
        "mongo_client = __connect_mongo_client()"
      ],
      "metadata": {
        "id": "XV25kvQyz5eW"
      },
      "execution_count": null,
      "outputs": []
    },
    {
      "cell_type": "code",
      "source": [
        "db = __connect_mongodb(mongo_client)"
      ],
      "metadata": {
        "id": "8XmFvfSA0KkV"
      },
      "execution_count": null,
      "outputs": []
    },
    {
      "cell_type": "code",
      "source": [
        "collection =__connect_mongodb_collection(db)"
      ],
      "metadata": {
        "id": "I4okvK1p6K_K"
      },
      "execution_count": null,
      "outputs": []
    },
    {
      "cell_type": "code",
      "source": [
        "csv_path = __read_csv_data()\n",
        "__insert_data_csv_to_mongo(db,collection)"
      ],
      "metadata": {
        "id": "nTgNJklcNmFj"
      },
      "execution_count": null,
      "outputs": []
    },
    {
      "cell_type": "code",
      "source": [
        "data = __get_data_collection(collection)\n",
        "print(len(data))"
      ],
      "metadata": {
        "id": "kmjoEveR4lwO"
      },
      "execution_count": null,
      "outputs": []
    },
    {
      "cell_type": "code",
      "source": [
        "data"
      ],
      "metadata": {
        "id": "CxkZ42Pxp5C7"
      },
      "execution_count": null,
      "outputs": []
    },
    {
      "cell_type": "code",
      "source": [],
      "metadata": {
        "id": "imllThk7p5_X"
      },
      "execution_count": null,
      "outputs": []
    }
  ]
}