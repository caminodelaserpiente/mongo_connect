{
 "cells": [
  {
   "cell_type": "code",
   "execution_count": 1,
   "metadata": {
    "id": "zD-QKumB9okq"
   },
   "outputs": [],
   "source": [
    "%%capture\n",
    "!pip install pymongo"
   ]
  },
  {
   "cell_type": "code",
   "execution_count": 2,
   "metadata": {
    "id": "X1CFm-9ryJcz"
   },
   "outputs": [],
   "source": [
    "import pymongo\n",
    "import getpass\n",
    "import pandas as pd\n",
    "import csv\n",
    "import configparser\n",
    "import os\n",
    "\n",
    "\n",
    "def __connect_mongo_client(path_config='./config/credentials.ini'):\n",
    "    try:\n",
    "        # Set clúster MongoDB\n",
    "        url_template = \"mongodb+srv://<username>:<password>@<cluster>.<instance_url>.mongodb.net/test?retryWrites=true&w=majority\"\n",
    "        config = configparser.ConfigParser()\n",
    "        config.read(path_config)\n",
    "        username = config.get('Credentials', 'username')\n",
    "        password = config.get('Credentials', 'password')\n",
    "        cluster = config.get('Credentials', 'cluster')\n",
    "        instance_url = config.get('Credentials', 'instance_url')\n",
    "        #username = getpass.getpass(prompt=\"Enter username: \")\n",
    "        #password = getpass.getpass(prompt=\"Enter password: \")\n",
    "        #cluster = input(\"Enter cluster name: \")\n",
    "        #instance_url = getpass.getpass(prompt=\"Enter instance url: \")\n",
    "        try:\n",
    "            if not username:\n",
    "                raise ValueError(\"Username cannot be empty.\")\n",
    "            url = url_template.replace(\"<username>\", username).replace(\"<password>\", password).replace(\"<cluster>\", cluster).replace(\"<instance_url>\", instance_url)\n",
    "            mongo_client = pymongo.MongoClient(url, serverSelectionTimeoutMS=3000, maxPoolSize=10)\n",
    "            mongo_client.server_info()\n",
    "            print ('OK -- Connected to MongoDB at server ')\n",
    "            return mongo_client\n",
    "        except pymongo.errors.ServerSelectionTimeoutError as error:\n",
    "            print ('ERROR -- Timeout with mongoDB connection: ', str(error) + \"\\n\")\n",
    "        except pymongo.errors.ConnectionFailure as error:\n",
    "            print ('ERROR -- Could not connect to MongoDB: ', str(error) + \"\\n\")\n",
    "        except ValueError as error:\n",
    "            print('ERROR -- Configuration file error: ', str(error) + \"\\n\")\n",
    "    except pymongo.errors.ConfigurationError as error:\n",
    "        print('ERROR -- Failed to resolve MongoDB DNS:', str(error) + \"\\n\")\n",
    "\n",
    "\n",
    "def __connect_mongo_db(mongo_client):\n",
    "    # Set DB\n",
    "    if mongo_client == None:\n",
    "        print(\"Empty file 'Credentials.ini'\")\n",
    "        return None\n",
    "    db_list = mongo_client.list_database_names() # Names databases\n",
    "    print(db_list)\n",
    "    try:\n",
    "        name_db = str(input(\"Name database >>> \"))\n",
    "        db = mongo_client[name_db]\n",
    "        if name_db in db_list:\n",
    "            print(f\"Connection to database '{name_db}' successful!\")\n",
    "            return db\n",
    "        else:\n",
    "            print(\"The database '{}' does not exist.\".format(name_db))\n",
    "            response = str(input(\"Do you want to create it? (y/n) >>> \"))\n",
    "            if response.lower() == \"y\":\n",
    "                mongo_client[name_db].command(\"ping\")\n",
    "                db = mongo_client[name_db]\n",
    "                print(\"Database '{}' created and conected successfu!\".format(name_db))\n",
    "                return db\n",
    "            elif response.lower() == \"n\":\n",
    "                print(\"Database not created.\")\n",
    "                return None\n",
    "            else:\n",
    "                print(\"Database not created.\")\n",
    "                return None\n",
    "    except Exception as error:\n",
    "        return None\n",
    "        print(\"An error occurred by def __connect_mongodb() :\", error)\n",
    "\n",
    "\n",
    "def __connect_mongodb_collection(db):\n",
    "    if db == None:\n",
    "        print(\"'db' not established\")\n",
    "        return None\n",
    "    try:\n",
    "        # Set collection\n",
    "        collection_list = db.list_collection_names() # Names collections\n",
    "        print(collection_list)\n",
    "        name_collection = str(input(\"Name collection >>> \"))\n",
    "        collection = db[name_collection]\n",
    "        if name_collection in collection_list:\n",
    "            print(f\"Connection to '{name_collection}' in database '{db}' successful!\")\n",
    "            return collection\n",
    "        else:\n",
    "            print(f\"Collection '{name_collection}' does not exist in database '{db.name}'.\")\n",
    "            response = input(\"Do you want to create it? (y/n) >>> \")\n",
    "            if response.lower() == \"y\":\n",
    "                collection = db[name_collection]\n",
    "                print(\"Collection '{}' created and conected successfu!\".format(name_collection))\n",
    "                return collection\n",
    "            elif response.lower() == \"n\":\n",
    "                print(\"Collection not created.\")\n",
    "                return None\n",
    "            else:\n",
    "                print(\"Collection not created.\")\n",
    "                return None\n",
    "    except Exception as error:\n",
    "        return None\n",
    "        print(\"An error occurred by def __connect_mongodb_collection() :\", error)\n",
    "\n",
    "\n",
    "__csv_path = None # Global variable\n",
    "def __read_csv_data():\n",
    "    max_attempts = 3\n",
    "    num_attempts = 0\n",
    "    try:\n",
    "        global __csv_path # Use the global variable __csv_path inside the function\n",
    "        while True:\n",
    "            if num_attempts == max_attempts:\n",
    "                print(\"\\nMaximum number of attempts reached. Exiting function.\")\n",
    "                break\n",
    "            else:\n",
    "                print(f\"The specified PATH is: '{__csv_path}'\")\n",
    "                response = str(input(\"Are you sure to continue on this PATH? (y/n)\"))\n",
    "                if response.lower() == \"y\":\n",
    "                    break\n",
    "                elif response.lower() == \"n\":\n",
    "                    if __csv_path is None:\n",
    "                        __csv_path = str(input(\"Enter the PATH of the .csv file >>> \"))\n",
    "                        if not os.path.isfile(__csv_path):\n",
    "                            print(\"The specified PATH does not exist.\")\n",
    "                    else:\n",
    "                        num_attempts += 1\n",
    "                        __csv_path = str(input(\"Enter the correct PATH of the .csv file? >>> \"))\n",
    "                        if os.path.isfile(__csv_path):\n",
    "                            __csv_path = __csv_path\n",
    "                            break\n",
    "                        else:\n",
    "                            print(\"The specified PATH does not exist.\")\n",
    "                else:\n",
    "                    num_attempts += 1\n",
    "    except Exception as error:\n",
    "        print(\"An error occurred in __read_csv_data() :\", error)\n",
    "\n",
    "                \n",
    "def __insert_data_csv_to_mongo(db, collection):\n",
    "    try:\n",
    "        global __csv_path # Use the global variable csv_path inside the function\n",
    "        df = pd.read_csv(__csv_path)\n",
    "        data = df.to_dict('records') # Convert DataFrame to dictionary list\n",
    "        collection.insert_many(data) # Insert data into the collection\n",
    "        print(f\"Data from '{__csv_path}' has been inserted into '{collection}' collection.\")\n",
    "    except pymongo.errors.ConnectionFailure as error:\n",
    "        print(\"An error occurred by def insert_csv_to_mongo() :\", error)\n",
    "    except pymongo.errors.CollectionInvalid as error:\n",
    "        print(\"An error occurred by def insert_csv_to_mongo() :\", error)\n",
    "    except FileNotFoundError as error:\n",
    "        print(\"An error occurred by def insert_csv_to_mongo() :\", error)\n",
    "    except Exception as error:\n",
    "        print(\"An error occurred by def insert_csv_to_mongo() :\", error)\n",
    "\n",
    "\n",
    "def __get_data_collection(collection):\n",
    "    try:\n",
    "        return list(collection.find())\n",
    "    except Exception as error:\n",
    "        print(\"An error occurred by def __get_data_collection() :\", error)\n"
   ]
  },
  {
   "cell_type": "code",
   "execution_count": 3,
   "metadata": {
    "colab": {
     "base_uri": "https://localhost:8080/"
    },
    "id": "XV25kvQyz5eW",
    "outputId": "6cc3d51f-7fbe-4d33-ef4e-a373a5daeb76"
   },
   "outputs": [
    {
     "name": "stdout",
     "output_type": "stream",
     "text": [
      "ERROR -- Configuration file error:  Username cannot be empty.\n",
      "\n"
     ]
    }
   ],
   "source": [
    "mongo_client = __connect_mongo_client()"
   ]
  },
  {
   "cell_type": "code",
   "execution_count": 4,
   "metadata": {
    "colab": {
     "base_uri": "https://localhost:8080/"
    },
    "id": "8XmFvfSA0KkV",
    "outputId": "900f5e92-228b-41c7-b76a-c8c80e7273ed"
   },
   "outputs": [
    {
     "name": "stdout",
     "output_type": "stream",
     "text": [
      "Empty file 'Credentials.ini'\n"
     ]
    }
   ],
   "source": [
    "db = __connect_mongo_db(mongo_client)"
   ]
  },
  {
   "cell_type": "code",
   "execution_count": 5,
   "metadata": {
    "colab": {
     "base_uri": "https://localhost:8080/"
    },
    "id": "I4okvK1p6K_K",
    "outputId": "dcf4d9b5-48f1-4371-f092-2b69acb231e5"
   },
   "outputs": [
    {
     "name": "stdout",
     "output_type": "stream",
     "text": [
      "'db' not established\n"
     ]
    }
   ],
   "source": [
    "collection =__connect_mongodb_collection(db)"
   ]
  },
  {
   "cell_type": "code",
   "execution_count": 6,
   "metadata": {
    "colab": {
     "base_uri": "https://localhost:8080/",
     "height": 366
    },
    "id": "nTgNJklcNmFj",
    "outputId": "56308ae4-47b3-42f9-ff98-458e2539504b"
   },
   "outputs": [
    {
     "name": "stdout",
     "output_type": "stream",
     "text": [
      "The specified PATH is: 'None'\n",
      "Are you sure to continue on this PATH? (y/n)\n",
      "The specified PATH is: 'None'\n",
      "Are you sure to continue on this PATH? (y/n)\n",
      "The specified PATH is: 'None'\n",
      "Are you sure to continue on this PATH? (y/n)\n",
      "\n",
      "Maximum number of attempts reached. Exiting function.\n",
      "An error occurred by def insert_csv_to_mongo() : Invalid file path or buffer object type: <class 'NoneType'>\n"
     ]
    }
   ],
   "source": [
    "csv_path = __read_csv_data()\n",
    "__insert_data_csv_to_mongo(db,collection)"
   ]
  },
  {
   "cell_type": "code",
   "execution_count": 7,
   "metadata": {
    "colab": {
     "base_uri": "https://localhost:8080/",
     "height": 203
    },
    "id": "kmjoEveR4lwO",
    "outputId": "84770d12-34cb-4234-cc72-56b29c0529d6"
   },
   "outputs": [
    {
     "name": "stdout",
     "output_type": "stream",
     "text": [
      "An error occurred by def __get_data_collection() : 'NoneType' object has no attribute 'find'\n",
      "object of type 'NoneType' has no len()\n"
     ]
    }
   ],
   "source": [
    "data = __get_data_collection(collection)\n",
    "try:\n",
    "    print(len(data))\n",
    "except Exception as error:\n",
    "    print(error)"
   ]
  },
  {
   "cell_type": "markdown",
   "metadata": {},
   "source": [
    "This notebook was made by <a href=\"https://github.com/caminodelaserpiente/mongo_connect\">蛇道</a>"
   ]
  },
  {
   "cell_type": "code",
   "execution_count": null,
   "metadata": {},
   "outputs": [],
   "source": []
  }
 ],
 "metadata": {
  "colab": {
   "provenance": []
  },
  "kernelspec": {
   "display_name": "Python 3 (ipykernel)",
   "language": "python",
   "name": "python3"
  },
  "language_info": {
   "codemirror_mode": {
    "name": "ipython",
    "version": 3
   },
   "file_extension": ".py",
   "mimetype": "text/x-python",
   "name": "python",
   "nbconvert_exporter": "python",
   "pygments_lexer": "ipython3",
   "version": "3.9.0"
  }
 },
 "nbformat": 4,
 "nbformat_minor": 1
}
